{
  "cells": [
    {
      "cell_type": "markdown",
      "metadata": {
        "id": "view-in-github",
        "colab_type": "text"
      },
      "source": [
        "<a href=\"https://colab.research.google.com/github/Bhuvanesh003/FACE-DETECTION-AND-RECOGNITION-with-ATTEDNANCE-SYSTEM/blob/main/Just_Look_For_Presence.ipynb\" target=\"_parent\"><img src=\"https://colab.research.google.com/assets/colab-badge.svg\" alt=\"Open In Colab\"/></a>"
      ]
    },
    {
      "cell_type": "code",
      "execution_count": null,
      "metadata": {
        "colab": {
          "base_uri": "https://localhost:8080/"
        },
        "id": "Dt4TvNoVCE_-",
        "outputId": "09101487-3f13-4818-8ec0-9af4c5c8a620"
      },
      "outputs": [
        {
          "output_type": "stream",
          "name": "stdout",
          "text": [
            "Drive already mounted at /content/drive; to attempt to forcibly remount, call drive.mount(\"/content/drive\", force_remount=True).\n"
          ]
        }
      ],
      "source": [
        "from google.colab import drive\n",
        "drive.mount('/content/drive')"
      ]
    },
    {
      "cell_type": "code",
      "execution_count": null,
      "metadata": {
        "colab": {
          "base_uri": "https://localhost:8080/"
        },
        "id": "eysWwtzhDAQ9",
        "outputId": "9e026dba-2297-4201-e8f8-95f233b719ea"
      },
      "outputs": [
        {
          "output_type": "stream",
          "name": "stdout",
          "text": [
            "Collecting mtcnn\n",
            "  Downloading mtcnn-0.1.1-py3-none-any.whl (2.3 MB)\n",
            "\u001b[?25l\r\u001b[K     |▏                               | 10 kB 32.2 MB/s eta 0:00:01\r\u001b[K     |▎                               | 20 kB 32.5 MB/s eta 0:00:01\r\u001b[K     |▍                               | 30 kB 23.0 MB/s eta 0:00:01\r\u001b[K     |▋                               | 40 kB 18.2 MB/s eta 0:00:01\r\u001b[K     |▊                               | 51 kB 15.9 MB/s eta 0:00:01\r\u001b[K     |▉                               | 61 kB 14.0 MB/s eta 0:00:01\r\u001b[K     |█                               | 71 kB 13.0 MB/s eta 0:00:01\r\u001b[K     |█▏                              | 81 kB 14.1 MB/s eta 0:00:01\r\u001b[K     |█▎                              | 92 kB 14.5 MB/s eta 0:00:01\r\u001b[K     |█▌                              | 102 kB 12.7 MB/s eta 0:00:01\r\u001b[K     |█▋                              | 112 kB 12.7 MB/s eta 0:00:01\r\u001b[K     |█▊                              | 122 kB 12.7 MB/s eta 0:00:01\r\u001b[K     |█▉                              | 133 kB 12.7 MB/s eta 0:00:01\r\u001b[K     |██                              | 143 kB 12.7 MB/s eta 0:00:01\r\u001b[K     |██▏                             | 153 kB 12.7 MB/s eta 0:00:01\r\u001b[K     |██▎                             | 163 kB 12.7 MB/s eta 0:00:01\r\u001b[K     |██▌                             | 174 kB 12.7 MB/s eta 0:00:01\r\u001b[K     |██▋                             | 184 kB 12.7 MB/s eta 0:00:01\r\u001b[K     |██▊                             | 194 kB 12.7 MB/s eta 0:00:01\r\u001b[K     |███                             | 204 kB 12.7 MB/s eta 0:00:01\r\u001b[K     |███                             | 215 kB 12.7 MB/s eta 0:00:01\r\u001b[K     |███▏                            | 225 kB 12.7 MB/s eta 0:00:01\r\u001b[K     |███▍                            | 235 kB 12.7 MB/s eta 0:00:01\r\u001b[K     |███▌                            | 245 kB 12.7 MB/s eta 0:00:01\r\u001b[K     |███▋                            | 256 kB 12.7 MB/s eta 0:00:01\r\u001b[K     |███▊                            | 266 kB 12.7 MB/s eta 0:00:01\r\u001b[K     |████                            | 276 kB 12.7 MB/s eta 0:00:01\r\u001b[K     |████                            | 286 kB 12.7 MB/s eta 0:00:01\r\u001b[K     |████▏                           | 296 kB 12.7 MB/s eta 0:00:01\r\u001b[K     |████▍                           | 307 kB 12.7 MB/s eta 0:00:01\r\u001b[K     |████▌                           | 317 kB 12.7 MB/s eta 0:00:01\r\u001b[K     |████▋                           | 327 kB 12.7 MB/s eta 0:00:01\r\u001b[K     |████▉                           | 337 kB 12.7 MB/s eta 0:00:01\r\u001b[K     |█████                           | 348 kB 12.7 MB/s eta 0:00:01\r\u001b[K     |█████                           | 358 kB 12.7 MB/s eta 0:00:01\r\u001b[K     |█████▏                          | 368 kB 12.7 MB/s eta 0:00:01\r\u001b[K     |█████▍                          | 378 kB 12.7 MB/s eta 0:00:01\r\u001b[K     |█████▌                          | 389 kB 12.7 MB/s eta 0:00:01\r\u001b[K     |█████▋                          | 399 kB 12.7 MB/s eta 0:00:01\r\u001b[K     |█████▉                          | 409 kB 12.7 MB/s eta 0:00:01\r\u001b[K     |██████                          | 419 kB 12.7 MB/s eta 0:00:01\r\u001b[K     |██████                          | 430 kB 12.7 MB/s eta 0:00:01\r\u001b[K     |██████▎                         | 440 kB 12.7 MB/s eta 0:00:01\r\u001b[K     |██████▍                         | 450 kB 12.7 MB/s eta 0:00:01\r\u001b[K     |██████▌                         | 460 kB 12.7 MB/s eta 0:00:01\r\u001b[K     |██████▊                         | 471 kB 12.7 MB/s eta 0:00:01\r\u001b[K     |██████▉                         | 481 kB 12.7 MB/s eta 0:00:01\r\u001b[K     |███████                         | 491 kB 12.7 MB/s eta 0:00:01\r\u001b[K     |███████                         | 501 kB 12.7 MB/s eta 0:00:01\r\u001b[K     |███████▎                        | 512 kB 12.7 MB/s eta 0:00:01\r\u001b[K     |███████▍                        | 522 kB 12.7 MB/s eta 0:00:01\r\u001b[K     |███████▌                        | 532 kB 12.7 MB/s eta 0:00:01\r\u001b[K     |███████▊                        | 542 kB 12.7 MB/s eta 0:00:01\r\u001b[K     |███████▉                        | 552 kB 12.7 MB/s eta 0:00:01\r\u001b[K     |████████                        | 563 kB 12.7 MB/s eta 0:00:01\r\u001b[K     |████████▏                       | 573 kB 12.7 MB/s eta 0:00:01\r\u001b[K     |████████▎                       | 583 kB 12.7 MB/s eta 0:00:01\r\u001b[K     |████████▍                       | 593 kB 12.7 MB/s eta 0:00:01\r\u001b[K     |████████▌                       | 604 kB 12.7 MB/s eta 0:00:01\r\u001b[K     |████████▊                       | 614 kB 12.7 MB/s eta 0:00:01\r\u001b[K     |████████▉                       | 624 kB 12.7 MB/s eta 0:00:01\r\u001b[K     |█████████                       | 634 kB 12.7 MB/s eta 0:00:01\r\u001b[K     |█████████▏                      | 645 kB 12.7 MB/s eta 0:00:01\r\u001b[K     |█████████▎                      | 655 kB 12.7 MB/s eta 0:00:01\r\u001b[K     |█████████▍                      | 665 kB 12.7 MB/s eta 0:00:01\r\u001b[K     |█████████▋                      | 675 kB 12.7 MB/s eta 0:00:01\r\u001b[K     |█████████▊                      | 686 kB 12.7 MB/s eta 0:00:01\r\u001b[K     |█████████▉                      | 696 kB 12.7 MB/s eta 0:00:01\r\u001b[K     |██████████                      | 706 kB 12.7 MB/s eta 0:00:01\r\u001b[K     |██████████▏                     | 716 kB 12.7 MB/s eta 0:00:01\r\u001b[K     |██████████▎                     | 727 kB 12.7 MB/s eta 0:00:01\r\u001b[K     |██████████▍                     | 737 kB 12.7 MB/s eta 0:00:01\r\u001b[K     |██████████▋                     | 747 kB 12.7 MB/s eta 0:00:01\r\u001b[K     |██████████▊                     | 757 kB 12.7 MB/s eta 0:00:01\r\u001b[K     |██████████▉                     | 768 kB 12.7 MB/s eta 0:00:01\r\u001b[K     |███████████                     | 778 kB 12.7 MB/s eta 0:00:01\r\u001b[K     |███████████▏                    | 788 kB 12.7 MB/s eta 0:00:01\r\u001b[K     |███████████▎                    | 798 kB 12.7 MB/s eta 0:00:01\r\u001b[K     |███████████▌                    | 808 kB 12.7 MB/s eta 0:00:01\r\u001b[K     |███████████▋                    | 819 kB 12.7 MB/s eta 0:00:01\r\u001b[K     |███████████▊                    | 829 kB 12.7 MB/s eta 0:00:01\r\u001b[K     |███████████▉                    | 839 kB 12.7 MB/s eta 0:00:01\r\u001b[K     |████████████                    | 849 kB 12.7 MB/s eta 0:00:01\r\u001b[K     |████████████▏                   | 860 kB 12.7 MB/s eta 0:00:01\r\u001b[K     |████████████▎                   | 870 kB 12.7 MB/s eta 0:00:01\r\u001b[K     |████████████▌                   | 880 kB 12.7 MB/s eta 0:00:01\r\u001b[K     |████████████▋                   | 890 kB 12.7 MB/s eta 0:00:01\r\u001b[K     |████████████▊                   | 901 kB 12.7 MB/s eta 0:00:01\r\u001b[K     |█████████████                   | 911 kB 12.7 MB/s eta 0:00:01\r\u001b[K     |█████████████                   | 921 kB 12.7 MB/s eta 0:00:01\r\u001b[K     |█████████████▏                  | 931 kB 12.7 MB/s eta 0:00:01\r\u001b[K     |█████████████▍                  | 942 kB 12.7 MB/s eta 0:00:01\r\u001b[K     |█████████████▌                  | 952 kB 12.7 MB/s eta 0:00:01\r\u001b[K     |█████████████▋                  | 962 kB 12.7 MB/s eta 0:00:01\r\u001b[K     |█████████████▊                  | 972 kB 12.7 MB/s eta 0:00:01\r\u001b[K     |██████████████                  | 983 kB 12.7 MB/s eta 0:00:01\r\u001b[K     |██████████████                  | 993 kB 12.7 MB/s eta 0:00:01\r\u001b[K     |██████████████▏                 | 1.0 MB 12.7 MB/s eta 0:00:01\r\u001b[K     |██████████████▍                 | 1.0 MB 12.7 MB/s eta 0:00:01\r\u001b[K     |██████████████▌                 | 1.0 MB 12.7 MB/s eta 0:00:01\r\u001b[K     |██████████████▋                 | 1.0 MB 12.7 MB/s eta 0:00:01\r\u001b[K     |██████████████▉                 | 1.0 MB 12.7 MB/s eta 0:00:01\r\u001b[K     |███████████████                 | 1.1 MB 12.7 MB/s eta 0:00:01\r\u001b[K     |███████████████                 | 1.1 MB 12.7 MB/s eta 0:00:01\r\u001b[K     |███████████████▏                | 1.1 MB 12.7 MB/s eta 0:00:01\r\u001b[K     |███████████████▍                | 1.1 MB 12.7 MB/s eta 0:00:01\r\u001b[K     |███████████████▌                | 1.1 MB 12.7 MB/s eta 0:00:01\r\u001b[K     |███████████████▋                | 1.1 MB 12.7 MB/s eta 0:00:01\r\u001b[K     |███████████████▉                | 1.1 MB 12.7 MB/s eta 0:00:01\r\u001b[K     |████████████████                | 1.1 MB 12.7 MB/s eta 0:00:01\r\u001b[K     |████████████████                | 1.1 MB 12.7 MB/s eta 0:00:01\r\u001b[K     |████████████████▎               | 1.1 MB 12.7 MB/s eta 0:00:01\r\u001b[K     |████████████████▍               | 1.2 MB 12.7 MB/s eta 0:00:01\r\u001b[K     |████████████████▌               | 1.2 MB 12.7 MB/s eta 0:00:01\r\u001b[K     |████████████████▊               | 1.2 MB 12.7 MB/s eta 0:00:01\r\u001b[K     |████████████████▉               | 1.2 MB 12.7 MB/s eta 0:00:01\r\u001b[K     |█████████████████               | 1.2 MB 12.7 MB/s eta 0:00:01\r\u001b[K     |█████████████████               | 1.2 MB 12.7 MB/s eta 0:00:01\r\u001b[K     |█████████████████▎              | 1.2 MB 12.7 MB/s eta 0:00:01\r\u001b[K     |█████████████████▍              | 1.2 MB 12.7 MB/s eta 0:00:01\r\u001b[K     |█████████████████▌              | 1.2 MB 12.7 MB/s eta 0:00:01\r\u001b[K     |█████████████████▊              | 1.2 MB 12.7 MB/s eta 0:00:01\r\u001b[K     |█████████████████▉              | 1.3 MB 12.7 MB/s eta 0:00:01\r\u001b[K     |██████████████████              | 1.3 MB 12.7 MB/s eta 0:00:01\r\u001b[K     |██████████████████▏             | 1.3 MB 12.7 MB/s eta 0:00:01\r\u001b[K     |██████████████████▎             | 1.3 MB 12.7 MB/s eta 0:00:01\r\u001b[K     |██████████████████▍             | 1.3 MB 12.7 MB/s eta 0:00:01\r\u001b[K     |██████████████████▌             | 1.3 MB 12.7 MB/s eta 0:00:01\r\u001b[K     |██████████████████▊             | 1.3 MB 12.7 MB/s eta 0:00:01\r\u001b[K     |██████████████████▉             | 1.3 MB 12.7 MB/s eta 0:00:01\r\u001b[K     |███████████████████             | 1.3 MB 12.7 MB/s eta 0:00:01\r\u001b[K     |███████████████████▏            | 1.4 MB 12.7 MB/s eta 0:00:01\r\u001b[K     |███████████████████▎            | 1.4 MB 12.7 MB/s eta 0:00:01\r\u001b[K     |███████████████████▍            | 1.4 MB 12.7 MB/s eta 0:00:01\r\u001b[K     |███████████████████▋            | 1.4 MB 12.7 MB/s eta 0:00:01\r\u001b[K     |███████████████████▊            | 1.4 MB 12.7 MB/s eta 0:00:01\r\u001b[K     |███████████████████▉            | 1.4 MB 12.7 MB/s eta 0:00:01\r\u001b[K     |████████████████████            | 1.4 MB 12.7 MB/s eta 0:00:01\r\u001b[K     |████████████████████▏           | 1.4 MB 12.7 MB/s eta 0:00:01\r\u001b[K     |████████████████████▎           | 1.4 MB 12.7 MB/s eta 0:00:01\r\u001b[K     |████████████████████▍           | 1.4 MB 12.7 MB/s eta 0:00:01\r\u001b[K     |████████████████████▋           | 1.5 MB 12.7 MB/s eta 0:00:01\r\u001b[K     |████████████████████▊           | 1.5 MB 12.7 MB/s eta 0:00:01\r\u001b[K     |████████████████████▉           | 1.5 MB 12.7 MB/s eta 0:00:01\r\u001b[K     |█████████████████████           | 1.5 MB 12.7 MB/s eta 0:00:01\r\u001b[K     |█████████████████████▏          | 1.5 MB 12.7 MB/s eta 0:00:01\r\u001b[K     |█████████████████████▎          | 1.5 MB 12.7 MB/s eta 0:00:01\r\u001b[K     |█████████████████████▌          | 1.5 MB 12.7 MB/s eta 0:00:01\r\u001b[K     |█████████████████████▋          | 1.5 MB 12.7 MB/s eta 0:00:01\r\u001b[K     |█████████████████████▊          | 1.5 MB 12.7 MB/s eta 0:00:01\r\u001b[K     |██████████████████████          | 1.5 MB 12.7 MB/s eta 0:00:01\r\u001b[K     |██████████████████████          | 1.6 MB 12.7 MB/s eta 0:00:01\r\u001b[K     |██████████████████████▏         | 1.6 MB 12.7 MB/s eta 0:00:01\r\u001b[K     |██████████████████████▎         | 1.6 MB 12.7 MB/s eta 0:00:01\r\u001b[K     |██████████████████████▌         | 1.6 MB 12.7 MB/s eta 0:00:01\r\u001b[K     |██████████████████████▋         | 1.6 MB 12.7 MB/s eta 0:00:01\r\u001b[K     |██████████████████████▊         | 1.6 MB 12.7 MB/s eta 0:00:01\r\u001b[K     |███████████████████████         | 1.6 MB 12.7 MB/s eta 0:00:01\r\u001b[K     |███████████████████████         | 1.6 MB 12.7 MB/s eta 0:00:01\r\u001b[K     |███████████████████████▏        | 1.6 MB 12.7 MB/s eta 0:00:01\r\u001b[K     |███████████████████████▍        | 1.6 MB 12.7 MB/s eta 0:00:01\r\u001b[K     |███████████████████████▌        | 1.7 MB 12.7 MB/s eta 0:00:01\r\u001b[K     |███████████████████████▋        | 1.7 MB 12.7 MB/s eta 0:00:01\r\u001b[K     |███████████████████████▊        | 1.7 MB 12.7 MB/s eta 0:00:01\r\u001b[K     |████████████████████████        | 1.7 MB 12.7 MB/s eta 0:00:01\r\u001b[K     |████████████████████████        | 1.7 MB 12.7 MB/s eta 0:00:01\r\u001b[K     |████████████████████████▏       | 1.7 MB 12.7 MB/s eta 0:00:01\r\u001b[K     |████████████████████████▍       | 1.7 MB 12.7 MB/s eta 0:00:01\r\u001b[K     |████████████████████████▌       | 1.7 MB 12.7 MB/s eta 0:00:01\r\u001b[K     |████████████████████████▋       | 1.7 MB 12.7 MB/s eta 0:00:01\r\u001b[K     |████████████████████████▉       | 1.8 MB 12.7 MB/s eta 0:00:01\r\u001b[K     |█████████████████████████       | 1.8 MB 12.7 MB/s eta 0:00:01\r\u001b[K     |█████████████████████████       | 1.8 MB 12.7 MB/s eta 0:00:01\r\u001b[K     |█████████████████████████▎      | 1.8 MB 12.7 MB/s eta 0:00:01\r\u001b[K     |█████████████████████████▍      | 1.8 MB 12.7 MB/s eta 0:00:01\r\u001b[K     |█████████████████████████▌      | 1.8 MB 12.7 MB/s eta 0:00:01\r\u001b[K     |█████████████████████████▋      | 1.8 MB 12.7 MB/s eta 0:00:01\r\u001b[K     |█████████████████████████▉      | 1.8 MB 12.7 MB/s eta 0:00:01\r\u001b[K     |██████████████████████████      | 1.8 MB 12.7 MB/s eta 0:00:01\r\u001b[K     |██████████████████████████      | 1.8 MB 12.7 MB/s eta 0:00:01\r\u001b[K     |██████████████████████████▎     | 1.9 MB 12.7 MB/s eta 0:00:01\r\u001b[K     |██████████████████████████▍     | 1.9 MB 12.7 MB/s eta 0:00:01\r\u001b[K     |██████████████████████████▌     | 1.9 MB 12.7 MB/s eta 0:00:01\r\u001b[K     |██████████████████████████▊     | 1.9 MB 12.7 MB/s eta 0:00:01\r\u001b[K     |██████████████████████████▉     | 1.9 MB 12.7 MB/s eta 0:00:01\r\u001b[K     |███████████████████████████     | 1.9 MB 12.7 MB/s eta 0:00:01\r\u001b[K     |███████████████████████████     | 1.9 MB 12.7 MB/s eta 0:00:01\r\u001b[K     |███████████████████████████▎    | 1.9 MB 12.7 MB/s eta 0:00:01\r\u001b[K     |███████████████████████████▍    | 1.9 MB 12.7 MB/s eta 0:00:01\r\u001b[K     |███████████████████████████▌    | 1.9 MB 12.7 MB/s eta 0:00:01\r\u001b[K     |███████████████████████████▊    | 2.0 MB 12.7 MB/s eta 0:00:01\r\u001b[K     |███████████████████████████▉    | 2.0 MB 12.7 MB/s eta 0:00:01\r\u001b[K     |████████████████████████████    | 2.0 MB 12.7 MB/s eta 0:00:01\r\u001b[K     |████████████████████████████▏   | 2.0 MB 12.7 MB/s eta 0:00:01\r\u001b[K     |████████████████████████████▎   | 2.0 MB 12.7 MB/s eta 0:00:01\r\u001b[K     |████████████████████████████▍   | 2.0 MB 12.7 MB/s eta 0:00:01\r\u001b[K     |████████████████████████████▋   | 2.0 MB 12.7 MB/s eta 0:00:01\r\u001b[K     |████████████████████████████▊   | 2.0 MB 12.7 MB/s eta 0:00:01\r\u001b[K     |████████████████████████████▉   | 2.0 MB 12.7 MB/s eta 0:00:01\r\u001b[K     |█████████████████████████████   | 2.0 MB 12.7 MB/s eta 0:00:01\r\u001b[K     |█████████████████████████████▏  | 2.1 MB 12.7 MB/s eta 0:00:01\r\u001b[K     |█████████████████████████████▎  | 2.1 MB 12.7 MB/s eta 0:00:01\r\u001b[K     |█████████████████████████████▍  | 2.1 MB 12.7 MB/s eta 0:00:01\r\u001b[K     |█████████████████████████████▋  | 2.1 MB 12.7 MB/s eta 0:00:01\r\u001b[K     |█████████████████████████████▊  | 2.1 MB 12.7 MB/s eta 0:00:01\r\u001b[K     |█████████████████████████████▉  | 2.1 MB 12.7 MB/s eta 0:00:01\r\u001b[K     |██████████████████████████████  | 2.1 MB 12.7 MB/s eta 0:00:01\r\u001b[K     |██████████████████████████████▏ | 2.1 MB 12.7 MB/s eta 0:00:01\r\u001b[K     |██████████████████████████████▎ | 2.1 MB 12.7 MB/s eta 0:00:01\r\u001b[K     |██████████████████████████████▍ | 2.2 MB 12.7 MB/s eta 0:00:01\r\u001b[K     |██████████████████████████████▋ | 2.2 MB 12.7 MB/s eta 0:00:01\r\u001b[K     |██████████████████████████████▊ | 2.2 MB 12.7 MB/s eta 0:00:01\r\u001b[K     |██████████████████████████████▉ | 2.2 MB 12.7 MB/s eta 0:00:01\r\u001b[K     |███████████████████████████████ | 2.2 MB 12.7 MB/s eta 0:00:01\r\u001b[K     |███████████████████████████████▏| 2.2 MB 12.7 MB/s eta 0:00:01\r\u001b[K     |███████████████████████████████▎| 2.2 MB 12.7 MB/s eta 0:00:01\r\u001b[K     |███████████████████████████████▌| 2.2 MB 12.7 MB/s eta 0:00:01\r\u001b[K     |███████████████████████████████▋| 2.2 MB 12.7 MB/s eta 0:00:01\r\u001b[K     |███████████████████████████████▊| 2.2 MB 12.7 MB/s eta 0:00:01\r\u001b[K     |████████████████████████████████| 2.3 MB 12.7 MB/s eta 0:00:01\r\u001b[K     |████████████████████████████████| 2.3 MB 12.7 MB/s \n",
            "\u001b[?25hRequirement already satisfied: opencv-python>=4.1.0 in /usr/local/lib/python3.7/dist-packages (from mtcnn) (4.1.2.30)\n",
            "Requirement already satisfied: keras>=2.0.0 in /usr/local/lib/python3.7/dist-packages (from mtcnn) (2.7.0)\n",
            "Requirement already satisfied: numpy>=1.14.5 in /usr/local/lib/python3.7/dist-packages (from opencv-python>=4.1.0->mtcnn) (1.19.5)\n",
            "Installing collected packages: mtcnn\n",
            "Successfully installed mtcnn-0.1.1\n"
          ]
        }
      ],
      "source": [
        "!pip install mtcnn"
      ]
    },
    {
      "cell_type": "code",
      "execution_count": null,
      "metadata": {
        "colab": {
          "base_uri": "https://localhost:8080/"
        },
        "id": "hiH-HdGPDDtI",
        "outputId": "a4c20e18-529e-4e59-a4f8-28ea40a003d6"
      },
      "outputs": [
        {
          "output_type": "stream",
          "name": "stdout",
          "text": [
            "Requirement already satisfied: gspread in /usr/local/lib/python3.7/dist-packages (3.4.2)\n",
            "Collecting gspread\n",
            "  Downloading gspread-5.1.1-py3-none-any.whl (31 kB)\n",
            "Requirement already satisfied: google-auth-oauthlib>=0.4.1 in /usr/local/lib/python3.7/dist-packages (from gspread) (0.4.6)\n",
            "Requirement already satisfied: google-auth>=1.12.0 in /usr/local/lib/python3.7/dist-packages (from gspread) (1.35.0)\n",
            "Requirement already satisfied: rsa<5,>=3.1.4 in /usr/local/lib/python3.7/dist-packages (from google-auth>=1.12.0->gspread) (4.8)\n",
            "Requirement already satisfied: cachetools<5.0,>=2.0.0 in /usr/local/lib/python3.7/dist-packages (from google-auth>=1.12.0->gspread) (4.2.4)\n",
            "Requirement already satisfied: pyasn1-modules>=0.2.1 in /usr/local/lib/python3.7/dist-packages (from google-auth>=1.12.0->gspread) (0.2.8)\n",
            "Requirement already satisfied: setuptools>=40.3.0 in /usr/local/lib/python3.7/dist-packages (from google-auth>=1.12.0->gspread) (57.4.0)\n",
            "Requirement already satisfied: six>=1.9.0 in /usr/local/lib/python3.7/dist-packages (from google-auth>=1.12.0->gspread) (1.15.0)\n",
            "Requirement already satisfied: requests-oauthlib>=0.7.0 in /usr/local/lib/python3.7/dist-packages (from google-auth-oauthlib>=0.4.1->gspread) (1.3.0)\n",
            "Requirement already satisfied: pyasn1<0.5.0,>=0.4.6 in /usr/local/lib/python3.7/dist-packages (from pyasn1-modules>=0.2.1->google-auth>=1.12.0->gspread) (0.4.8)\n",
            "Requirement already satisfied: oauthlib>=3.0.0 in /usr/local/lib/python3.7/dist-packages (from requests-oauthlib>=0.7.0->google-auth-oauthlib>=0.4.1->gspread) (3.1.1)\n",
            "Requirement already satisfied: requests>=2.0.0 in /usr/local/lib/python3.7/dist-packages (from requests-oauthlib>=0.7.0->google-auth-oauthlib>=0.4.1->gspread) (2.23.0)\n",
            "Requirement already satisfied: urllib3!=1.25.0,!=1.25.1,<1.26,>=1.21.1 in /usr/local/lib/python3.7/dist-packages (from requests>=2.0.0->requests-oauthlib>=0.7.0->google-auth-oauthlib>=0.4.1->gspread) (1.24.3)\n",
            "Requirement already satisfied: certifi>=2017.4.17 in /usr/local/lib/python3.7/dist-packages (from requests>=2.0.0->requests-oauthlib>=0.7.0->google-auth-oauthlib>=0.4.1->gspread) (2021.10.8)\n",
            "Requirement already satisfied: idna<3,>=2.5 in /usr/local/lib/python3.7/dist-packages (from requests>=2.0.0->requests-oauthlib>=0.7.0->google-auth-oauthlib>=0.4.1->gspread) (2.10)\n",
            "Requirement already satisfied: chardet<4,>=3.0.2 in /usr/local/lib/python3.7/dist-packages (from requests>=2.0.0->requests-oauthlib>=0.7.0->google-auth-oauthlib>=0.4.1->gspread) (3.0.4)\n",
            "Installing collected packages: gspread\n",
            "  Attempting uninstall: gspread\n",
            "    Found existing installation: gspread 3.4.2\n",
            "    Uninstalling gspread-3.4.2:\n",
            "      Successfully uninstalled gspread-3.4.2\n",
            "Successfully installed gspread-5.1.1\n",
            "0.1.0\n"
          ]
        }
      ],
      "source": [
        "# confirm mtcnn was installed correctly\n",
        "import mtcnn\n",
        "\n",
        "!pip install  gspread --upgrade\n",
        "# print version\n",
        "print(mtcnn.__version__)"
      ]
    },
    {
      "cell_type": "markdown",
      "metadata": {
        "id": "HFwuk6uoBZpw"
      },
      "source": [
        "WEBCAM "
      ]
    },
    {
      "cell_type": "code",
      "execution_count": null,
      "metadata": {
        "id": "SktQAVoZ-T08"
      },
      "outputs": [],
      "source": [
        "from IPython.display import display, Javascript\n",
        "from google.colab.output import eval_js\n",
        "from base64 import b64decode\n",
        "\n",
        "def take_photo(filename='photo.jpg', quality=0.8):\n",
        "  js = Javascript('''\n",
        "    async function takePhoto(quality) {\n",
        "      const div = document.createElement('div');\n",
        "      const capture = document.createElement('button');\n",
        "      capture.textContent = 'Capture';\n",
        "      div.appendChild(capture);\n",
        "\n",
        "      const video = document.createElement('video');\n",
        "      video.style.display = 'block';\n",
        "      const stream = await navigator.mediaDevices.getUserMedia({video: true});\n",
        "\n",
        "      document.body.appendChild(div);\n",
        "      div.appendChild(video);\n",
        "      video.srcObject = stream;\n",
        "      await video.play();\n",
        "\n",
        "      // Resize the output to fit the video element.\n",
        "      google.colab.output.setIframeHeight(document.documentElement.scrollHeight, true);\n",
        "\n",
        "      // Wait for Capture to be clicked.\n",
        "      await new Promise((resolve) => capture.onclick = resolve);\n",
        "\n",
        "      const canvas = document.createElement('canvas');\n",
        "      canvas.width = video.videoWidth;\n",
        "      canvas.height = video.videoHeight;\n",
        "      canvas.getContext('2d').drawImage(video, 0, 0);\n",
        "      stream.getVideoTracks()[0].stop();\n",
        "      div.remove();\n",
        "      return canvas.toDataURL('image/jpeg', quality);\n",
        "    }\n",
        "    ''')\n",
        "  display(js)\n",
        "  data = eval_js('takePhoto({})'.format(quality))\n",
        "  binary = b64decode(data.split(',')[1])\n",
        "  with open(filename, 'wb') as f:\n",
        "    f.write(binary)\n",
        "  return filename"
      ]
    },
    {
      "cell_type": "markdown",
      "metadata": {
        "id": "9axjDFj0Hxl-"
      },
      "source": [
        "EXTRACT FACE"
      ]
    },
    {
      "cell_type": "code",
      "execution_count": null,
      "metadata": {
        "id": "IpA6vO_rHu3s"
      },
      "outputs": [],
      "source": [
        "\n",
        "from os import listdir\n",
        "from os.path import isdir\n",
        "from PIL import Image\n",
        "from matplotlib import pyplot\n",
        "from numpy import savez_compressed\n",
        "from numpy import asarray\n",
        "from mtcnn.mtcnn import MTCNN\n",
        "\n",
        "# extract a single face from a given photograph\n",
        "def extract_face(filename, required_size=(160, 160)):\n",
        "    # load image from file\n",
        "    image = Image.open(filename)\n",
        "    # convert to RGB, if needed\n",
        "    image = image.convert('RGB')\n",
        "    # convert to array\n",
        "    pixels = asarray(image)\n",
        "    # create the detector, using default weights\n",
        "    detector = MTCNN()\n",
        "    # detect faces in the image\n",
        "    results = detector.detect_faces(pixels)\n",
        "    # extract the bounding box from the first face\n",
        "    #if(len(results)!=0):\n",
        "    x1, y1, width, height = results[0]['box']       \n",
        "    # bug fix\n",
        "    x1, y1 = abs(x1), abs(y1)\n",
        "    x2, y2 = x1 + width, y1 + height\n",
        "    # extract the face\n",
        "    face = pixels[y1:y2, x1:x2]\n",
        "    # resize pixels to the model size\n",
        "    image = Image.fromarray(face)\n",
        "    image = image.resize(required_size)\n",
        "    face_array = asarray(image)\n",
        "    return face_array"
      ]
    },
    {
      "cell_type": "markdown",
      "metadata": {
        "id": "0hJzzNx4Yc-v"
      },
      "source": [
        "LOAD FACE FROM DIRECTORY"
      ]
    },
    {
      "cell_type": "code",
      "execution_count": null,
      "metadata": {
        "id": "am0US1SyA9za"
      },
      "outputs": [],
      "source": [
        "\n",
        "# load images and extract faces for all images in a directory\n",
        "def load_faces(directory):\n",
        "    faces = list()\n",
        "    # enumerate files\n",
        "    for filename in listdir(directory):\n",
        "        # path\n",
        "        path = directory + filename\n",
        "        # get face\n",
        "        try:\n",
        "            #print(path)\n",
        "            face = extract_face(path)\n",
        "            # store\n",
        "            faces.append(face)\n",
        "        except:\n",
        "            print(path)\n",
        "    return faces"
      ]
    },
    {
      "cell_type": "markdown",
      "metadata": {
        "id": "YgQXO_gkNnZ7"
      },
      "source": [
        "TRAIN"
      ]
    },
    {
      "cell_type": "code",
      "execution_count": null,
      "metadata": {
        "colab": {
          "base_uri": "https://localhost:8080/"
        },
        "id": "XI5bYEklNnw9",
        "outputId": "d6bab8a9-c034-414c-f911-2806ea0f13e0"
      },
      "outputs": [
        {
          "name": "stdout",
          "output_type": "stream",
          "text": [
            ">loaded 51 examples for class: Hariram\n",
            ">loaded 22 examples for class: Hari Narayanan\n",
            ">loaded 44 examples for class: Bhuvanesh\n",
            ">loaded 36 examples for class: Jeyaram\n",
            ">loaded 30 examples for class: Alwin shyam\n",
            ">loaded 36 examples for class: Kalyana Sundharam\n",
            ">loaded 34 examples for class: Santhosh pandian\n",
            ">loaded 3 examples for class: Pandi Muniyasamy\n",
            ">loaded 13 examples for class: Shunmuga Nathan\n",
            ">loaded 31 examples for class: Vigneshwaran\n",
            ">loaded 32 examples for class: Sri murugan\n",
            ">loaded 31 examples for class: Visweshwarram\n",
            ">loaded 46 examples for class: Muthu Kumar\n",
            ">loaded 22 examples for class: Gowtham\n",
            ">loaded 31 examples for class: Leyo \n",
            ">loaded 15 examples for class: Arun karthik\n",
            ">loaded 44 examples for class: Rubesh Muthu vel\n",
            ">loaded 38 examples for class: Sivathanu\n",
            "(559, 160, 160, 3) (559,)\n"
          ]
        }
      ],
      "source": [
        "# load a dataset that contains one subdir for each class that in turn contains images\n",
        "def load_dataset(directory):\n",
        "    X, y = list(), list()\n",
        "    # enumerate folders, on per class\n",
        "    for subdir in listdir(directory):\n",
        "        # path\n",
        "        path = directory + subdir + '/'\n",
        "        # skip any files that might be in the dir\n",
        "        if not isdir(path):\n",
        "            continue\n",
        "        # load all faces in the subdirectory\n",
        "        faces = load_faces(path)\n",
        "        # create labels\n",
        "        #print(\"sub \",subdir,faces)\n",
        "        labels = [subdir for _ in range(len(faces))]\n",
        "        # summarize progress\n",
        "        #print(labels)\n",
        "        print('>loaded %d examples for class: %s' % (len(faces), subdir))\n",
        "        # store\n",
        "        X.extend(faces)\n",
        "        y.extend(labels)\n",
        "    #print(y)\n",
        "    return asarray(X), asarray(y)\n",
        "\n",
        "# load train dataset\n",
        "trainX=[]\n",
        "trainy=[]\n",
        "trainX, trainy = load_dataset('/content/drive/MyDrive/ML/project/FRiends/train/')\n",
        "print(trainX.shape, trainy.shape)\n",
        "# load test dataset\n",
        "savez_compressed('dataset.npz', trainX, trainy)"
      ]
    },
    {
      "cell_type": "markdown",
      "metadata": {
        "id": "l0iO3tLUIIId"
      },
      "source": [
        "GET EMBEDDING"
      ]
    },
    {
      "cell_type": "code",
      "execution_count": null,
      "metadata": {
        "id": "djqC-dkYIACB"
      },
      "outputs": [],
      "source": [
        "# calculate a face embedding for each face in the dataset using facenet\n",
        "from numpy import load\n",
        "from numpy import expand_dims\n",
        "from numpy import asarray\n",
        "from numpy import savez_compressed\n",
        "from keras.models import load_model\n",
        "\n",
        "# get the face embedding for one face\n",
        "def get_embedding(model, face_pixels,a):\n",
        "    \n",
        "    face_pixels = face_pixels.astype('float32')\n",
        "    # standardize pixel values across channels (global)\n",
        "    mean, std = face_pixels.mean(), face_pixels.std()\n",
        "    face_pixels = (face_pixels - mean) / std\n",
        "    # transform face into one sample\n",
        "    samples = expand_dims(face_pixels, axis=0)\n",
        "    # make prediction to get embedding\n",
        "    #print(model.predict(samples))\n",
        "    yhat = model.predict(samples)\n",
        "  #print(\"yhat\",yhat[0])\n",
        "    return yhat[0]"
      ]
    },
    {
      "cell_type": "markdown",
      "metadata": {
        "id": "Br33cNHY_sRA"
      },
      "source": [
        "FACE EMBEDDING"
      ]
    },
    {
      "cell_type": "code",
      "execution_count": null,
      "metadata": {
        "colab": {
          "base_uri": "https://localhost:8080/"
        },
        "id": "n0swUM1aHCbX",
        "outputId": "9ca6ab8f-8321-4e7a-ce4f-6e4205ec3af3"
      },
      "outputs": [
        {
          "name": "stdout",
          "output_type": "stream",
          "text": [
            "Loaded:  (559, 160, 160, 3) (559,)\n",
            "WARNING:tensorflow:No training configuration found in the save file, so the model was *not* compiled. Compile it manually.\n",
            "Loaded Model\n",
            "(559, 128)\n"
          ]
        }
      ],
      "source": [
        "\n",
        "from numpy import load\n",
        "from numpy import expand_dims\n",
        "from numpy import asarray\n",
        "from numpy import savez_compressed\n",
        "from keras.models import load_model\n",
        "\n",
        "# get the face embedding for one face\n",
        "def get_embedding(model, face_pixels,a):\n",
        "    \n",
        "    face_pixels = face_pixels.astype('float32')\n",
        "    # standardize pixel values across channels (global)\n",
        "    mean, std = face_pixels.mean(), face_pixels.std()\n",
        "    face_pixels = (face_pixels - mean) / std\n",
        "    # transform face into one sample\n",
        "    samples = expand_dims(face_pixels, axis=0)\n",
        "    # make prediction to get embedding\n",
        "    #print(model.predict(samples))\n",
        "    yhat = model.predict(samples)\n",
        "  #print(\"yhat\",yhat[0])\n",
        "    return yhat[0]\n",
        "\n",
        "# load the face dataset\n",
        "data = load('/content/drive/MyDrive/ML/project/dataset .npz')\n",
        "#print(\"data\",data['arr_2'])\n",
        "trainX, trainy= data['arr_0'], data['arr_1']\n",
        "print('Loaded: ', trainX.shape, trainy.shape)\n",
        "# load the facenet model\n",
        "model = load_model('/content/drive/MyDrive/ML/Copy of facenet_keras.h5')\n",
        "print('Loaded Model')\n",
        "# convert each face in the train set to an embedding\n",
        "newTrainX = list()\n",
        "for face_pixels in trainX:\n",
        "    embedding = get_embedding(model, face_pixels,0)\n",
        "    newTrainX.append(embedding)\n",
        "newTrainX = asarray(newTrainX)\n",
        "print(newTrainX.shape)\n",
        "# save arrays to one file in compressed format\n",
        "savez_compressed('embeddings.npz', newTrainX, trainy)"
      ]
    },
    {
      "cell_type": "code",
      "execution_count": null,
      "metadata": {
        "colab": {
          "base_uri": "https://localhost:8080/"
        },
        "id": "K_uo_DSCy5Y6",
        "outputId": "b3053b79-9529-46ff-f6de-a38df49db29e"
      },
      "outputs": [
        {
          "output_type": "stream",
          "name": "stdout",
          "text": [
            "5.1.1\n"
          ]
        }
      ],
      "source": [
        "import gspread\n",
        "print(gspread.__version__)"
      ]
    },
    {
      "cell_type": "markdown",
      "metadata": {
        "id": "12IEdkGJ7vHb"
      },
      "source": [
        "ATTEDNANCE"
      ]
    },
    {
      "cell_type": "code",
      "execution_count": null,
      "metadata": {
        "colab": {
          "base_uri": "https://localhost:8080/"
        },
        "id": "Oy9qvqAipLf-",
        "outputId": "0622db39-b625-4c7e-f344-fd116a5310ba"
      },
      "outputs": [
        {
          "output_type": "stream",
          "name": "stdout",
          "text": [
            "[['NAME', 'INTIME', 'OUT TIME']]\n"
          ]
        }
      ],
      "source": [
        "from google.colab import auth\n",
        "auth.authenticate_user()\n",
        "import gspread\n",
        "from oauth2client.client import GoogleCredentials\n",
        "from datetime import datetime\n",
        "from pytz import timezone \n",
        "import pandas as pd\n",
        "\n",
        "today=datetime.now(timezone('Asia/Kolkata')).strftime(\"%d/%m/%Y\")\n",
        "gc = gspread.authorize(GoogleCredentials.get_application_default())\n",
        "l=today+\" attednance\"\n",
        "try:\n",
        "  ws=gc.open(l).sheet1\n",
        "  present=ws.get_all_values()\n",
        "except:\n",
        "  sh = gc.create(l)\n",
        "  ws = sh.sheet1\n",
        "  present=ws.get_all_values()\n",
        "  headers=['NAME','INTIME','OUT TIME']\n",
        "  present.append(headers)\n",
        "  ws.format('A1:B1',{'textFormat': {'bold': True}})\n",
        "  ws.format('C1',{'textFormat': {'bold': True}})\n",
        "  ws.update('A1', present)\n",
        "print(present)"
      ]
    },
    {
      "cell_type": "markdown",
      "metadata": {
        "id": "pWoN-mCgYsdM"
      },
      "source": [
        "OUTTIME"
      ]
    },
    {
      "cell_type": "code",
      "execution_count": null,
      "metadata": {
        "id": "2VJLOpDfM6Po"
      },
      "outputs": [],
      "source": [
        "def outtime(prelist,present,time):\n",
        "  for i in present:\n",
        "    if(i[0]==prelist[0]):\n",
        "      i.append(time)\n",
        "      return 1\n",
        "  return 0"
      ]
    },
    {
      "cell_type": "markdown",
      "metadata": {
        "id": "cUyvfS71_1LF"
      },
      "source": [
        "FACE TEST and RESULT"
      ]
    },
    {
      "cell_type": "code",
      "execution_count": null,
      "metadata": {
        "colab": {
          "base_uri": "https://localhost:8080/",
          "height": 420
        },
        "id": "6NIk1gumJ2z9",
        "outputId": "a227f0c4-46cf-4e19-d57d-34d9a5f340ec"
      },
      "outputs": [
        {
          "output_type": "display_data",
          "data": {
            "application/javascript": [
              "\n",
              "    async function takePhoto(quality) {\n",
              "      const div = document.createElement('div');\n",
              "      const capture = document.createElement('button');\n",
              "      capture.textContent = 'Capture';\n",
              "      div.appendChild(capture);\n",
              "\n",
              "      const video = document.createElement('video');\n",
              "      video.style.display = 'block';\n",
              "      const stream = await navigator.mediaDevices.getUserMedia({video: true});\n",
              "\n",
              "      document.body.appendChild(div);\n",
              "      div.appendChild(video);\n",
              "      video.srcObject = stream;\n",
              "      await video.play();\n",
              "\n",
              "      // Resize the output to fit the video element.\n",
              "      google.colab.output.setIframeHeight(document.documentElement.scrollHeight, true);\n",
              "\n",
              "      // Wait for Capture to be clicked.\n",
              "      await new Promise((resolve) => capture.onclick = resolve);\n",
              "\n",
              "      const canvas = document.createElement('canvas');\n",
              "      canvas.width = video.videoWidth;\n",
              "      canvas.height = video.videoHeight;\n",
              "      canvas.getContext('2d').drawImage(video, 0, 0);\n",
              "      stream.getVideoTracks()[0].stop();\n",
              "      div.remove();\n",
              "      return canvas.toDataURL('image/jpeg', quality);\n",
              "    }\n",
              "    "
            ],
            "text/plain": [
              "<IPython.core.display.Javascript object>"
            ]
          },
          "metadata": {}
        },
        {
          "output_type": "stream",
          "name": "stdout",
          "text": [
            "WARNING:tensorflow:No training configuration found in the save file, so the model was *not* compiled. Compile it manually.\n",
            "Predicted: Bhuvanesh (81.439)\n",
            "21:24:34\n"
          ]
        },
        {
          "output_type": "display_data",
          "data": {
            "image/png": "[encoded data removed]",
            "text/plain": [
              "<Figure size 432x288 with 1 Axes>"
            ]
          },
          "metadata": {
            "needs_background": "light"
          }
        },
        {
          "output_type": "execute_result",
          "data": {
            "text/plain": [
              "{'spreadsheetId': '1QQ3ZQHltgM6kaqukXt94fNreY7i1Hv7NTuQXN2FDX0g',\n",
              " 'updatedCells': 5,\n",
              " 'updatedColumns': 3,\n",
              " 'updatedRange': 'Sheet1!A1:C2',\n",
              " 'updatedRows': 2}"
            ]
          },
          "metadata": {},
          "execution_count": 11
        }
      ],
      "source": [
        "\n",
        "import time\n",
        "import scipy.ndimage as ndimage\n",
        "from numpy import load\n",
        "from numpy import expand_dims\n",
        "from sklearn.preprocessing import LabelEncoder\n",
        "from sklearn.preprocessing import Normalizer\n",
        "from sklearn.svm import SVC\n",
        "from matplotlib import pyplot\n",
        "from numpy import asarray\n",
        "from numpy import savez_compressed\n",
        "from keras.models import load_model\n",
        "\n",
        "\n",
        "#TEST PHOTO\n",
        "#path='/content/drive/MyDrive/ML/project/FRiends/train/Hariram/1639746873652.jpg'\n",
        "path=take_photo()\n",
        "\n",
        "#INTIME \n",
        "t = time.localtime()\n",
        "current_time =datetime.now(timezone(\"Asia/Kolkata\")).strftime('%H:%M:%S')\n",
        "\n",
        "face = extract_face(path)\n",
        "# store\n",
        "testX=asarray(face)\n",
        "#print(testX)\n",
        "testX_faces = testX\n",
        "\n",
        "\n",
        "#EMBEDDINGD \n",
        "face_pixels=testX\n",
        "model = load_model('/content/drive/MyDrive/ML/Copy of facenet_keras.h5')\n",
        "newTestX = list()\n",
        "testembedding=get_embedding(model, face_pixels,1)\n",
        "newTestX.append(testembedding)\n",
        "newTestX = asarray(newTestX)\n",
        "\n",
        "# load face embeddings\n",
        "data = load('/content/drive/MyDrive/ML/project/embeddings .npz')\n",
        "trainX, trainy = data['arr_0'], data['arr_1']\n",
        "# normalize input vectors\n",
        "in_encoder = Normalizer(norm='l2')\n",
        "trainX = in_encoder.transform(trainX)\n",
        "testX = in_encoder.transform(newTestX)\n",
        "# label encode targets\n",
        "out_encoder = LabelEncoder()\n",
        "out_encoder.fit(trainy)\n",
        "trainy = out_encoder.transform(trainy)\n",
        "# fit model\n",
        "model = SVC(kernel='linear', probability=True)\n",
        "model.fit(trainX, trainy)\n",
        "# test model on a random example from the test dataset\n",
        "test_face_pixels = testX_faces\n",
        "face_emb = testX[0]\n",
        "# prediction for the face\n",
        "samples = expand_dims(face_emb, axis=0)\n",
        "yhat_class = model.predict(samples)\n",
        "yhat_prob = model.predict_proba(samples)\n",
        "# get name\n",
        "class_index = yhat_class[0]\n",
        "class_probability = yhat_prob[0,class_index] * 100\n",
        "predict_names = out_encoder.inverse_transform(yhat_class)\n",
        "#print(predict_names)\n",
        "if(class_probability>60):\n",
        "  print('Predicted: %s (%.3f)' % (predict_names[0], class_probability))\n",
        "else:\n",
        "  print('UNKNOWN')\n",
        "  print('Predicted: %s (%.3f)' % (predict_names[0], class_probability))\n",
        "\n",
        "pyplot.imshow(test_face_pixels)\n",
        "\n",
        "if(class_probability>60):\n",
        "  title = '%s (%.3f)' % (predict_names[0], class_probability)\n",
        "  prelist=[predict_names[0],current_time]\n",
        "  if(outtime(prelist,present,current_time)==0):\n",
        "    present.append(prelist)\n",
        "  print(current_time)\n",
        "  #print(present)\n",
        "\n",
        "else:\n",
        "  title = '%s' % (\"UNKNOWN\")\n",
        "pyplot.title(title)\n",
        "pyplot.show()\n",
        "\n",
        "#SHEET\n",
        "ws.update(\"A1\",present)"
      ]
    },
    {
      "cell_type": "code",
      "execution_count": null,
      "metadata": {
        "colab": {
          "base_uri": "https://localhost:8080/"
        },
        "id": "9K2fknsg0hq5",
        "outputId": "e5aa6e0e-aee8-46f4-b456-488313fb3dd7"
      },
      "outputs": [
        {
          "output_type": "stream",
          "name": "stdout",
          "text": [
            "18/12/2021\n"
          ]
        }
      ],
      "source": [
        "today=datetime.now(timezone('Asia/Kolkata')).strftime(\"%d/%m/%Y\")\n",
        "print(today)"
      ]
    }
  ],
  "metadata": {
    "accelerator": "GPU",
    "colab": {
      "collapsed_sections": [],
      "name": "Just Look For Presence.ipynb",
      "provenance": [],
      "mount_file_id": "1zs3-dT1XQr0AhZw15IZQdLfk2bJ_iL67",
      "authorship_tag": "ABX9TyNrB29ctdwUYLgdKG0sdrLN",
      "include_colab_link": true
    },
    "kernelspec": {
      "display_name": "Python 3",
      "name": "python3"
    },
    "language_info": {
      "name": "python"
    }
  },
  "nbformat": 4,
  "nbformat_minor": 0
}